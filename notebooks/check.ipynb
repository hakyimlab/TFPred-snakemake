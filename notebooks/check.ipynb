{
 "cells": [
  {
   "cell_type": "code",
   "execution_count": null,
   "metadata": {},
   "outputs": [],
   "source": []
  },
  {
   "cell_type": "code",
   "execution_count": 2,
   "metadata": {},
   "outputs": [],
   "source": [
    "import os\n",
    "import pandas as pd\n",
    "import yaml"
   ]
  },
  {
   "cell_type": "code",
   "execution_count": 10,
   "metadata": {},
   "outputs": [],
   "source": [
    "with open(\"/beagle3/haky/users/temi/projects/TFPred-snakemake/metadata/enpact_models_to_train.short.yaml\") as stream:\n",
    "    try:\n",
    "        model_config = yaml.safe_load(stream)\n",
    "    except yaml.YAMLError as exc:\n",
    "        print(exc)"
   ]
  },
  {
   "cell_type": "code",
   "execution_count": 11,
   "metadata": {},
   "outputs": [
    {
     "data": {
      "text/html": [
       "<div>\n",
       "<style scoped>\n",
       "    .dataframe tbody tr th:only-of-type {\n",
       "        vertical-align: middle;\n",
       "    }\n",
       "\n",
       "    .dataframe tbody tr th {\n",
       "        vertical-align: top;\n",
       "    }\n",
       "\n",
       "    .dataframe thead th {\n",
       "        text-align: right;\n",
       "    }\n",
       "</style>\n",
       "<table border=\"1\" class=\"dataframe\">\n",
       "  <thead>\n",
       "    <tr style=\"text-align: right;\">\n",
       "      <th></th>\n",
       "      <th>assay</th>\n",
       "      <th>context</th>\n",
       "    </tr>\n",
       "  </thead>\n",
       "  <tbody>\n",
       "    <tr>\n",
       "      <th>0</th>\n",
       "      <td>ARNTL</td>\n",
       "      <td>Bone</td>\n",
       "    </tr>\n",
       "    <tr>\n",
       "      <th>1</th>\n",
       "      <td>ARNTL</td>\n",
       "      <td>Colon</td>\n",
       "    </tr>\n",
       "    <tr>\n",
       "      <th>2</th>\n",
       "      <td>ASCL1</td>\n",
       "      <td>Lung</td>\n",
       "    </tr>\n",
       "    <tr>\n",
       "      <th>3</th>\n",
       "      <td>ASCL1</td>\n",
       "      <td>Skin</td>\n",
       "    </tr>\n",
       "    <tr>\n",
       "      <th>4</th>\n",
       "      <td>ASCL2</td>\n",
       "      <td>Colon</td>\n",
       "    </tr>\n",
       "  </tbody>\n",
       "</table>\n",
       "</div>"
      ],
      "text/plain": [
       "   assay context\n",
       "0  ARNTL    Bone\n",
       "1  ARNTL   Colon\n",
       "2  ASCL1    Lung\n",
       "3  ASCL1    Skin\n",
       "4  ASCL2   Colon"
      ]
     },
     "execution_count": 11,
     "metadata": {},
     "output_type": "execute_result"
    }
   ],
   "source": [
    "metadata_dt = pd.read_table(\"/beagle3/haky/users/temi/projects/TFPred-snakemake/metadata/enpact_models_to_train.short.tsv\", dtype={'assay': 'string', 'context': 'string'})\n",
    "metadata_dt"
   ]
  },
  {
   "cell_type": "code",
   "execution_count": 35,
   "metadata": {},
   "outputs": [
    {
     "data": {
      "text/plain": [
       "(('ARNTL', 'Bone'),\n",
       " ('ARNTL', 'Colon'),\n",
       " ('ASCL1', 'Lung'),\n",
       " ('ASCL1', 'Skin'),\n",
       " ('ASCL2', 'Colon'))"
      ]
     },
     "execution_count": 35,
     "metadata": {},
     "output_type": "execute_result"
    }
   ],
   "source": [
    "tp = tuple(metadata_dt.itertuples(index=False, name = None))\n",
    "tuple(tp)"
   ]
  },
  {
   "cell_type": "code",
   "execution_count": 47,
   "metadata": {},
   "outputs": [],
   "source": [
    "def verify_model_details(model_details: tuple, model_config: dict, print = False) -> list:\n",
    "    FOUND = []\n",
    "    for det in model_details:\n",
    "        tf = det[0]\n",
    "        tissue = det[1]\n",
    "        if tf not in model_config:\n",
    "            raise ValueError(f'ERROR - TF {tf} not found in model config')\n",
    "        else:\n",
    "            if tissue not in model_config[tf]['peakFiles']:\n",
    "                raise ValueError(f'ERROR - Tissue {tissue} not found in peakFiles for TF {tf}')\n",
    "            else:\n",
    "                FOUND.append(tf)\n",
    "    if print:\n",
    "        print(f'INFO - Verified {len(FOUND)} assays')\n",
    "    return FOUND"
   ]
  },
  {
   "cell_type": "code",
   "execution_count": 48,
   "metadata": {},
   "outputs": [
    {
     "data": {
      "text/plain": [
       "['ARNTL', 'ARNTL', 'ASCL1', 'ASCL1', 'ASCL2']"
      ]
     },
     "execution_count": 48,
     "metadata": {},
     "output_type": "execute_result"
    }
   ],
   "source": [
    "assaylist = verify_model_details(tp, model_config)\n",
    "assaylist"
   ]
  },
  {
   "cell_type": "code",
   "execution_count": 41,
   "metadata": {},
   "outputs": [
    {
     "ename": "IndentationError",
     "evalue": "expected an indented block (2235702163.py, line 2)",
     "output_type": "error",
     "traceback": [
      "\u001b[0;36m  Cell \u001b[0;32mIn[41], line 2\u001b[0;36m\u001b[0m\n\u001b[0;31m    \u001b[0m\n\u001b[0m    ^\u001b[0m\n\u001b[0;31mIndentationError\u001b[0m\u001b[0;31m:\u001b[0m expected an indented block\n"
     ]
    }
   ],
   "source": [
    "def filter_config_and_metadata(model_config, metadata_dt, assaylist):\n",
    "    "
   ]
  },
  {
   "cell_type": "code",
   "execution_count": 43,
   "metadata": {},
   "outputs": [
    {
     "data": {
      "text/html": [
       "<div>\n",
       "<style scoped>\n",
       "    .dataframe tbody tr th:only-of-type {\n",
       "        vertical-align: middle;\n",
       "    }\n",
       "\n",
       "    .dataframe tbody tr th {\n",
       "        vertical-align: top;\n",
       "    }\n",
       "\n",
       "    .dataframe thead th {\n",
       "        text-align: right;\n",
       "    }\n",
       "</style>\n",
       "<table border=\"1\" class=\"dataframe\">\n",
       "  <thead>\n",
       "    <tr style=\"text-align: right;\">\n",
       "      <th></th>\n",
       "      <th>assay</th>\n",
       "      <th>context</th>\n",
       "    </tr>\n",
       "  </thead>\n",
       "  <tbody>\n",
       "    <tr>\n",
       "      <th>0</th>\n",
       "      <td>ARNTL</td>\n",
       "      <td>Bone</td>\n",
       "    </tr>\n",
       "    <tr>\n",
       "      <th>1</th>\n",
       "      <td>ARNTL</td>\n",
       "      <td>Colon</td>\n",
       "    </tr>\n",
       "    <tr>\n",
       "      <th>2</th>\n",
       "      <td>ASCL1</td>\n",
       "      <td>Lung</td>\n",
       "    </tr>\n",
       "    <tr>\n",
       "      <th>3</th>\n",
       "      <td>ASCL1</td>\n",
       "      <td>Skin</td>\n",
       "    </tr>\n",
       "    <tr>\n",
       "      <th>4</th>\n",
       "      <td>ASCL2</td>\n",
       "      <td>Colon</td>\n",
       "    </tr>\n",
       "  </tbody>\n",
       "</table>\n",
       "</div>"
      ],
      "text/plain": [
       "   assay context\n",
       "0  ARNTL    Bone\n",
       "1  ARNTL   Colon\n",
       "2  ASCL1    Lung\n",
       "3  ASCL1    Skin\n",
       "4  ASCL2   Colon"
      ]
     },
     "execution_count": 43,
     "metadata": {},
     "output_type": "execute_result"
    }
   ],
   "source": [
    "metadata_dt[metadata_dt.assay.isin(assaylist)]"
   ]
  },
  {
   "cell_type": "code",
   "execution_count": 44,
   "metadata": {},
   "outputs": [
    {
     "data": {
      "text/plain": [
       "{'ARNTL': {'motifFiles': 'bmal.motif',\n",
       "  'peakFiles': {'Bone': '68104_sort_peaks.narrowPeak.bed',\n",
       "   'Colon': ['42643_sort_peaks.narrowPeak.bed',\n",
       "    '42749_sort_peaks.narrowPeak.bed']}},\n",
       " 'ASCL1': {'motifFiles': 'ascl1.motif',\n",
       "  'peakFiles': {'Lung': ['49723_sort_peaks.narrowPeak.bed',\n",
       "    '49724_sort_peaks.narrowPeak.bed',\n",
       "    '49725_sort_peaks.narrowPeak.bed',\n",
       "    '49726_sort_peaks.narrowPeak.bed',\n",
       "    '49727_sort_peaks.narrowPeak.bed',\n",
       "    '49728_sort_peaks.narrowPeak.bed',\n",
       "    '49729_sort_peaks.narrowPeak.bed',\n",
       "    '49730_sort_peaks.narrowPeak.bed',\n",
       "    '49731_sort_peaks.narrowPeak.bed',\n",
       "    '49732_sort_peaks.narrowPeak.bed',\n",
       "    '49733_sort_peaks.narrowPeak.bed',\n",
       "    '70122_sort_peaks.narrowPeak.bed'],\n",
       "   'Skin': '41852_sort_peaks.narrowPeak.bed'}},\n",
       " 'ASCL2': {'motifFiles': 'ascl2.motif',\n",
       "  'peakFiles': {'Colon': '38812_sort_peaks.narrowPeak.bed'}}}"
      ]
     },
     "execution_count": 44,
     "metadata": {},
     "output_type": "execute_result"
    }
   ],
   "source": [
    "{k: model_config[k] for k in assaylist}"
   ]
  },
  {
   "cell_type": "code",
   "execution_count": null,
   "metadata": {},
   "outputs": [],
   "source": []
  }
 ],
 "metadata": {
  "kernelspec": {
   "display_name": "Python 3",
   "language": "python",
   "name": "python3"
  },
  "language_info": {
   "codemirror_mode": {
    "name": "ipython",
    "version": 3
   },
   "file_extension": ".py",
   "mimetype": "text/x-python",
   "name": "python",
   "nbconvert_exporter": "python",
   "pygments_lexer": "ipython3",
   "version": "3.9.17"
  }
 },
 "nbformat": 4,
 "nbformat_minor": 2
}
